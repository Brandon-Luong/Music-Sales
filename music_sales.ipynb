{
 "cells": [
  {
   "cell_type": "markdown",
   "source": [
    "# Music Industry Sales Kaggle Project"
   ],
   "metadata": {}
  },
  {
   "cell_type": "markdown",
   "source": [
    "## Introduction\r\n",
    "\r\n",
    "### Main Stakeholders\r\n",
    "\r\n",
    "Because this dataset is about music sales based on different formats (CDs, cassette, vinyls, etc.), the main stakeholder will be the record label company. The company will ultimately want to know: what's the best (most profitable) format to release their artists' songs to?\r\n",
    "\r\n",
    "\r\n",
    "### Business Tasks\r\n",
    "\r\n",
    "To help guide my analysis, I want to answer these main questions:\r\n",
    "\r\n",
    "- How many units were sold per song format?\r\n",
    "- How much money did each format make in total?\r\n",
    "- Adjusting for inflation, how much money is that today and which format was the most profitable?\r\n",
    "- Are there any discrepencies or unusual trends (eg. random peak of a certain format)?\r\n",
    "- What's the best (most profitable) format for new song releases?"
   ],
   "metadata": {}
  },
  {
   "cell_type": "code",
   "execution_count": 1,
   "source": [
    "# Imports\r\n",
    "import numpy as np\r\n",
    "import pandas as pd"
   ],
   "outputs": [],
   "metadata": {}
  },
  {
   "cell_type": "markdown",
   "source": [
    "## Exploratory Data Analysis (EDA)"
   ],
   "metadata": {}
  },
  {
   "cell_type": "code",
   "execution_count": 2,
   "source": [
    "# Read csv file\r\n",
    "df = pd.read_csv('musicdata.csv')\r\n",
    "df"
   ],
   "outputs": [
    {
     "output_type": "execute_result",
     "data": {
      "text/plain": [
       "            format            metric  year  number_of_records  value_actual\n",
       "0               CD             Units  1973                  1           NaN\n",
       "1               CD             Units  1974                  1           NaN\n",
       "2               CD             Units  1975                  1           NaN\n",
       "3               CD             Units  1976                  1           NaN\n",
       "4               CD             Units  1977                  1           NaN\n",
       "...            ...               ...   ...                ...           ...\n",
       "3003  Vinyl Single  Value (Adjusted)  2015                  1      6.205390\n",
       "3004  Vinyl Single  Value (Adjusted)  2016                  1      5.198931\n",
       "3005  Vinyl Single  Value (Adjusted)  2017                  1      6.339678\n",
       "3006  Vinyl Single  Value (Adjusted)  2018                  1      5.386197\n",
       "3007  Vinyl Single  Value (Adjusted)  2019                  1      6.795946\n",
       "\n",
       "[3008 rows x 5 columns]"
      ],
      "text/html": [
       "<div>\n",
       "<style scoped>\n",
       "    .dataframe tbody tr th:only-of-type {\n",
       "        vertical-align: middle;\n",
       "    }\n",
       "\n",
       "    .dataframe tbody tr th {\n",
       "        vertical-align: top;\n",
       "    }\n",
       "\n",
       "    .dataframe thead th {\n",
       "        text-align: right;\n",
       "    }\n",
       "</style>\n",
       "<table border=\"1\" class=\"dataframe\">\n",
       "  <thead>\n",
       "    <tr style=\"text-align: right;\">\n",
       "      <th></th>\n",
       "      <th>format</th>\n",
       "      <th>metric</th>\n",
       "      <th>year</th>\n",
       "      <th>number_of_records</th>\n",
       "      <th>value_actual</th>\n",
       "    </tr>\n",
       "  </thead>\n",
       "  <tbody>\n",
       "    <tr>\n",
       "      <th>0</th>\n",
       "      <td>CD</td>\n",
       "      <td>Units</td>\n",
       "      <td>1973</td>\n",
       "      <td>1</td>\n",
       "      <td>NaN</td>\n",
       "    </tr>\n",
       "    <tr>\n",
       "      <th>1</th>\n",
       "      <td>CD</td>\n",
       "      <td>Units</td>\n",
       "      <td>1974</td>\n",
       "      <td>1</td>\n",
       "      <td>NaN</td>\n",
       "    </tr>\n",
       "    <tr>\n",
       "      <th>2</th>\n",
       "      <td>CD</td>\n",
       "      <td>Units</td>\n",
       "      <td>1975</td>\n",
       "      <td>1</td>\n",
       "      <td>NaN</td>\n",
       "    </tr>\n",
       "    <tr>\n",
       "      <th>3</th>\n",
       "      <td>CD</td>\n",
       "      <td>Units</td>\n",
       "      <td>1976</td>\n",
       "      <td>1</td>\n",
       "      <td>NaN</td>\n",
       "    </tr>\n",
       "    <tr>\n",
       "      <th>4</th>\n",
       "      <td>CD</td>\n",
       "      <td>Units</td>\n",
       "      <td>1977</td>\n",
       "      <td>1</td>\n",
       "      <td>NaN</td>\n",
       "    </tr>\n",
       "    <tr>\n",
       "      <th>...</th>\n",
       "      <td>...</td>\n",
       "      <td>...</td>\n",
       "      <td>...</td>\n",
       "      <td>...</td>\n",
       "      <td>...</td>\n",
       "    </tr>\n",
       "    <tr>\n",
       "      <th>3003</th>\n",
       "      <td>Vinyl Single</td>\n",
       "      <td>Value (Adjusted)</td>\n",
       "      <td>2015</td>\n",
       "      <td>1</td>\n",
       "      <td>6.205390</td>\n",
       "    </tr>\n",
       "    <tr>\n",
       "      <th>3004</th>\n",
       "      <td>Vinyl Single</td>\n",
       "      <td>Value (Adjusted)</td>\n",
       "      <td>2016</td>\n",
       "      <td>1</td>\n",
       "      <td>5.198931</td>\n",
       "    </tr>\n",
       "    <tr>\n",
       "      <th>3005</th>\n",
       "      <td>Vinyl Single</td>\n",
       "      <td>Value (Adjusted)</td>\n",
       "      <td>2017</td>\n",
       "      <td>1</td>\n",
       "      <td>6.339678</td>\n",
       "    </tr>\n",
       "    <tr>\n",
       "      <th>3006</th>\n",
       "      <td>Vinyl Single</td>\n",
       "      <td>Value (Adjusted)</td>\n",
       "      <td>2018</td>\n",
       "      <td>1</td>\n",
       "      <td>5.386197</td>\n",
       "    </tr>\n",
       "    <tr>\n",
       "      <th>3007</th>\n",
       "      <td>Vinyl Single</td>\n",
       "      <td>Value (Adjusted)</td>\n",
       "      <td>2019</td>\n",
       "      <td>1</td>\n",
       "      <td>6.795946</td>\n",
       "    </tr>\n",
       "  </tbody>\n",
       "</table>\n",
       "<p>3008 rows × 5 columns</p>\n",
       "</div>"
      ]
     },
     "metadata": {},
     "execution_count": 2
    }
   ],
   "metadata": {}
  },
  {
   "cell_type": "markdown",
   "source": [
    "### Introductory Look"
   ],
   "metadata": {}
  },
  {
   "cell_type": "code",
   "execution_count": 3,
   "source": [
    "df.head()"
   ],
   "outputs": [
    {
     "output_type": "execute_result",
     "data": {
      "text/plain": [
       "  format metric  year  number_of_records  value_actual\n",
       "0     CD  Units  1973                  1           NaN\n",
       "1     CD  Units  1974                  1           NaN\n",
       "2     CD  Units  1975                  1           NaN\n",
       "3     CD  Units  1976                  1           NaN\n",
       "4     CD  Units  1977                  1           NaN"
      ],
      "text/html": [
       "<div>\n",
       "<style scoped>\n",
       "    .dataframe tbody tr th:only-of-type {\n",
       "        vertical-align: middle;\n",
       "    }\n",
       "\n",
       "    .dataframe tbody tr th {\n",
       "        vertical-align: top;\n",
       "    }\n",
       "\n",
       "    .dataframe thead th {\n",
       "        text-align: right;\n",
       "    }\n",
       "</style>\n",
       "<table border=\"1\" class=\"dataframe\">\n",
       "  <thead>\n",
       "    <tr style=\"text-align: right;\">\n",
       "      <th></th>\n",
       "      <th>format</th>\n",
       "      <th>metric</th>\n",
       "      <th>year</th>\n",
       "      <th>number_of_records</th>\n",
       "      <th>value_actual</th>\n",
       "    </tr>\n",
       "  </thead>\n",
       "  <tbody>\n",
       "    <tr>\n",
       "      <th>0</th>\n",
       "      <td>CD</td>\n",
       "      <td>Units</td>\n",
       "      <td>1973</td>\n",
       "      <td>1</td>\n",
       "      <td>NaN</td>\n",
       "    </tr>\n",
       "    <tr>\n",
       "      <th>1</th>\n",
       "      <td>CD</td>\n",
       "      <td>Units</td>\n",
       "      <td>1974</td>\n",
       "      <td>1</td>\n",
       "      <td>NaN</td>\n",
       "    </tr>\n",
       "    <tr>\n",
       "      <th>2</th>\n",
       "      <td>CD</td>\n",
       "      <td>Units</td>\n",
       "      <td>1975</td>\n",
       "      <td>1</td>\n",
       "      <td>NaN</td>\n",
       "    </tr>\n",
       "    <tr>\n",
       "      <th>3</th>\n",
       "      <td>CD</td>\n",
       "      <td>Units</td>\n",
       "      <td>1976</td>\n",
       "      <td>1</td>\n",
       "      <td>NaN</td>\n",
       "    </tr>\n",
       "    <tr>\n",
       "      <th>4</th>\n",
       "      <td>CD</td>\n",
       "      <td>Units</td>\n",
       "      <td>1977</td>\n",
       "      <td>1</td>\n",
       "      <td>NaN</td>\n",
       "    </tr>\n",
       "  </tbody>\n",
       "</table>\n",
       "</div>"
      ]
     },
     "metadata": {},
     "execution_count": 3
    }
   ],
   "metadata": {}
  },
  {
   "cell_type": "code",
   "execution_count": 4,
   "source": [
    "df.info()"
   ],
   "outputs": [
    {
     "output_type": "stream",
     "name": "stdout",
     "text": [
      "<class 'pandas.core.frame.DataFrame'>\n",
      "RangeIndex: 3008 entries, 0 to 3007\n",
      "Data columns (total 5 columns):\n",
      " #   Column             Non-Null Count  Dtype  \n",
      "---  ------             --------------  -----  \n",
      " 0   format             3008 non-null   object \n",
      " 1   metric             3008 non-null   object \n",
      " 2   year               3008 non-null   int64  \n",
      " 3   number_of_records  3008 non-null   int64  \n",
      " 4   value_actual       1351 non-null   float64\n",
      "dtypes: float64(1), int64(2), object(2)\n",
      "memory usage: 117.6+ KB\n"
     ]
    }
   ],
   "metadata": {}
  },
  {
   "cell_type": "code",
   "execution_count": 5,
   "source": [
    "# Statistical summary of numerical columns\r\n",
    "df.describe()"
   ],
   "outputs": [
    {
     "output_type": "execute_result",
     "data": {
      "text/plain": [
       "              year  number_of_records  value_actual\n",
       "count  3008.000000             3008.0   1351.000000\n",
       "mean   1996.000000                1.0    781.291237\n",
       "std      13.566915                0.0   2246.837672\n",
       "min    1973.000000                1.0     -7.650944\n",
       "25%    1984.000000                1.0      3.700228\n",
       "50%    1996.000000                1.0     63.900000\n",
       "75%    2008.000000                1.0    448.900000\n",
       "max    2019.000000                1.0  19667.327786"
      ],
      "text/html": [
       "<div>\n",
       "<style scoped>\n",
       "    .dataframe tbody tr th:only-of-type {\n",
       "        vertical-align: middle;\n",
       "    }\n",
       "\n",
       "    .dataframe tbody tr th {\n",
       "        vertical-align: top;\n",
       "    }\n",
       "\n",
       "    .dataframe thead th {\n",
       "        text-align: right;\n",
       "    }\n",
       "</style>\n",
       "<table border=\"1\" class=\"dataframe\">\n",
       "  <thead>\n",
       "    <tr style=\"text-align: right;\">\n",
       "      <th></th>\n",
       "      <th>year</th>\n",
       "      <th>number_of_records</th>\n",
       "      <th>value_actual</th>\n",
       "    </tr>\n",
       "  </thead>\n",
       "  <tbody>\n",
       "    <tr>\n",
       "      <th>count</th>\n",
       "      <td>3008.000000</td>\n",
       "      <td>3008.0</td>\n",
       "      <td>1351.000000</td>\n",
       "    </tr>\n",
       "    <tr>\n",
       "      <th>mean</th>\n",
       "      <td>1996.000000</td>\n",
       "      <td>1.0</td>\n",
       "      <td>781.291237</td>\n",
       "    </tr>\n",
       "    <tr>\n",
       "      <th>std</th>\n",
       "      <td>13.566915</td>\n",
       "      <td>0.0</td>\n",
       "      <td>2246.837672</td>\n",
       "    </tr>\n",
       "    <tr>\n",
       "      <th>min</th>\n",
       "      <td>1973.000000</td>\n",
       "      <td>1.0</td>\n",
       "      <td>-7.650944</td>\n",
       "    </tr>\n",
       "    <tr>\n",
       "      <th>25%</th>\n",
       "      <td>1984.000000</td>\n",
       "      <td>1.0</td>\n",
       "      <td>3.700228</td>\n",
       "    </tr>\n",
       "    <tr>\n",
       "      <th>50%</th>\n",
       "      <td>1996.000000</td>\n",
       "      <td>1.0</td>\n",
       "      <td>63.900000</td>\n",
       "    </tr>\n",
       "    <tr>\n",
       "      <th>75%</th>\n",
       "      <td>2008.000000</td>\n",
       "      <td>1.0</td>\n",
       "      <td>448.900000</td>\n",
       "    </tr>\n",
       "    <tr>\n",
       "      <th>max</th>\n",
       "      <td>2019.000000</td>\n",
       "      <td>1.0</td>\n",
       "      <td>19667.327786</td>\n",
       "    </tr>\n",
       "  </tbody>\n",
       "</table>\n",
       "</div>"
      ]
     },
     "metadata": {},
     "execution_count": 5
    }
   ],
   "metadata": {}
  },
  {
   "cell_type": "code",
   "execution_count": 6,
   "source": [
    "df['format'].value_counts()"
   ],
   "outputs": [
    {
     "output_type": "execute_result",
     "data": {
      "text/plain": [
       "CD                                    141\n",
       "DVD Audio                             141\n",
       "Ringtones & Ringbacks                 141\n",
       "Download Music Video                  141\n",
       "Kiosk                                 141\n",
       "CD Single                             141\n",
       "Download Single                       141\n",
       "SACD                                  141\n",
       "Download Album                        141\n",
       "Music Video (Physical)                141\n",
       "Other Tapes                           141\n",
       "8 - Track                             141\n",
       "Vinyl Single                          141\n",
       "LP/EP                                 141\n",
       "Cassette Single                       141\n",
       "Cassette                              141\n",
       "Paid Subscriptions                     94\n",
       "Limited Tier Paid Subscription         94\n",
       "On-Demand Streaming (Ad-Supported)     94\n",
       "Other Ad-Supported Streaming           94\n",
       "Other Digital                          94\n",
       "Paid Subscription                      94\n",
       "SoundExchange Distributions            94\n",
       "Synchronization                        94\n",
       "Name: format, dtype: int64"
      ]
     },
     "metadata": {},
     "execution_count": 6
    }
   ],
   "metadata": {}
  },
  {
   "cell_type": "code",
   "execution_count": 7,
   "source": [
    "df['metric'].value_counts()"
   ],
   "outputs": [
    {
     "output_type": "execute_result",
     "data": {
      "text/plain": [
       "Value               1081\n",
       "Value (Adjusted)    1081\n",
       "Units                846\n",
       "Name: metric, dtype: int64"
      ]
     },
     "metadata": {},
     "execution_count": 7
    }
   ],
   "metadata": {}
  },
  {
   "cell_type": "markdown",
   "source": [
    "So from an introductory look of the data, there are:\r\n",
    "\r\n",
    "- 3 numerical columns: 'year', 'number_of_records', 'value_actual'\r\n",
    "- 2 text columns: 'format', 'metric'\r\n",
    "\r\n",
    "Since 'format' and 'metric' are both object dtypes, they need to be converted to string dtype."
   ],
   "metadata": {}
  },
  {
   "cell_type": "code",
   "execution_count": 8,
   "source": [
    "df['format'] = df['format'].astype('string')\r\n",
    "df['metric'] = df['metric'].astype('string')"
   ],
   "outputs": [],
   "metadata": {}
  },
  {
   "cell_type": "code",
   "execution_count": 9,
   "source": [
    "df.info()"
   ],
   "outputs": [
    {
     "output_type": "stream",
     "name": "stdout",
     "text": [
      "<class 'pandas.core.frame.DataFrame'>\n",
      "RangeIndex: 3008 entries, 0 to 3007\n",
      "Data columns (total 5 columns):\n",
      " #   Column             Non-Null Count  Dtype  \n",
      "---  ------             --------------  -----  \n",
      " 0   format             3008 non-null   string \n",
      " 1   metric             3008 non-null   string \n",
      " 2   year               3008 non-null   int64  \n",
      " 3   number_of_records  3008 non-null   int64  \n",
      " 4   value_actual       1351 non-null   float64\n",
      "dtypes: float64(1), int64(2), string(2)\n",
      "memory usage: 117.6 KB\n"
     ]
    }
   ],
   "metadata": {}
  },
  {
   "cell_type": "code",
   "execution_count": 10,
   "source": [
    "df['number_of_records'].value_counts()"
   ],
   "outputs": [
    {
     "output_type": "execute_result",
     "data": {
      "text/plain": [
       "1    3008\n",
       "Name: number_of_records, dtype: int64"
      ]
     },
     "metadata": {},
     "execution_count": 10
    }
   ],
   "metadata": {}
  },
  {
   "cell_type": "markdown",
   "source": [
    "The 'number_of_records' column description states: \"Unit (all rows are 1).\" I assume this means that each observation (row) is 1 sale (eg. 1 cd sale, 1 cassette sale, 1 paid subscription sale, etc)."
   ],
   "metadata": {}
  },
  {
   "cell_type": "code",
   "execution_count": 22,
   "source": [
    "num_null_values = df['value_actual'].isnull().groupby(df['format']).sum()\r\n",
    "num_non_null_values = df['value_actual'].notnull().groupby(df['format']).sum()\r\n",
    "num_null_values / num_non_null_values"
   ],
   "outputs": [
    {
     "output_type": "execute_result",
     "data": {
      "text/plain": [
       "format\n",
       "8 - Track                              1.389831\n",
       "CD                                     0.270270\n",
       "CD Single                              0.468750\n",
       "Cassette                               0.258929\n",
       "Cassette Single                        1.473684\n",
       "DVD Audio                              1.473684\n",
       "Download Album                         1.937500\n",
       "Download Music Video                   2.133333\n",
       "Download Single                        1.937500\n",
       "Kiosk                                  2.133333\n",
       "LP/EP                                  0.000000\n",
       "Limited Tier Paid Subscription        10.750000\n",
       "Music Video (Physical)                 0.516129\n",
       "On-Demand Streaming (Ad-Supported)     4.222222\n",
       "Other Ad-Supported Streaming          10.750000\n",
       "Other Digital                         10.750000\n",
       "Other Tapes                            2.000000\n",
       "Paid Subscription                      2.133333\n",
       "Paid Subscriptions                     2.241379\n",
       "Ringtones & Ringbacks                  2.133333\n",
       "SACD                                   1.764706\n",
       "SoundExchange Distributions            1.937500\n",
       "Synchronization                        3.272727\n",
       "Vinyl Single                           0.000000\n",
       "Name: value_actual, dtype: float64"
      ]
     },
     "metadata": {},
     "execution_count": 22
    }
   ],
   "metadata": {}
  },
  {
   "cell_type": "code",
   "execution_count": 18,
   "source": [
    "df['value_actual'].notnull().groupby(df['format']).sum()"
   ],
   "outputs": [
    {
     "output_type": "execute_result",
     "data": {
      "text/plain": [
       "format\n",
       "8 - Track                              59\n",
       "CD                                    111\n",
       "CD Single                              96\n",
       "Cassette                              112\n",
       "Cassette Single                        57\n",
       "DVD Audio                              57\n",
       "Download Album                         48\n",
       "Download Music Video                   45\n",
       "Download Single                        48\n",
       "Kiosk                                  45\n",
       "LP/EP                                 141\n",
       "Limited Tier Paid Subscription          8\n",
       "Music Video (Physical)                 93\n",
       "On-Demand Streaming (Ad-Supported)     18\n",
       "Other Ad-Supported Streaming            8\n",
       "Other Digital                           8\n",
       "Other Tapes                            47\n",
       "Paid Subscription                      30\n",
       "Paid Subscriptions                     29\n",
       "Ringtones & Ringbacks                  45\n",
       "SACD                                   51\n",
       "SoundExchange Distributions            32\n",
       "Synchronization                        22\n",
       "Vinyl Single                          141\n",
       "Name: value_actual, dtype: int64"
      ]
     },
     "metadata": {},
     "execution_count": 18
    }
   ],
   "metadata": {}
  },
  {
   "cell_type": "code",
   "execution_count": 20,
   "source": [
    "num_null_values"
   ],
   "outputs": [
    {
     "output_type": "execute_result",
     "data": {
      "text/plain": [
       "format\n",
       "8 - Track                             82\n",
       "CD                                    30\n",
       "CD Single                             45\n",
       "Cassette                              29\n",
       "Cassette Single                       84\n",
       "DVD Audio                             84\n",
       "Download Album                        93\n",
       "Download Music Video                  96\n",
       "Download Single                       93\n",
       "Kiosk                                 96\n",
       "LP/EP                                  0\n",
       "Limited Tier Paid Subscription        86\n",
       "Music Video (Physical)                48\n",
       "On-Demand Streaming (Ad-Supported)    76\n",
       "Other Ad-Supported Streaming          86\n",
       "Other Digital                         86\n",
       "Other Tapes                           94\n",
       "Paid Subscription                     64\n",
       "Paid Subscriptions                    65\n",
       "Ringtones & Ringbacks                 96\n",
       "SACD                                  90\n",
       "SoundExchange Distributions           62\n",
       "Synchronization                       72\n",
       "Vinyl Single                           0\n",
       "Name: value_actual, dtype: int64"
      ]
     },
     "metadata": {},
     "execution_count": 20
    }
   ],
   "metadata": {}
  },
  {
   "cell_type": "markdown",
   "source": [
    "When non-null values are present:\r\n",
    "\r\n",
    "- 8-track: 1973-1982\r\n",
    "- CD: 1983-2019\r\n",
    "- CD Single: 1988-2019\r\n",
    "  - There are negative numbers\r\n",
    "  - Units/Value/Value(Adjusted)??\r\n",
    "- Cassette: 1973-2008\r\n",
    "- Cassette Single: 1987-2008\r\n",
    "- DVD Audio: 2001-2019\r\n",
    "\r\n",
    "The null values correspond to the years when the format hasn't been introduced or has dropped off (eg. the 8-track format only lasted from 1973-1982, so 1983+ are null values).\r\n",
    "\r\n",
    "Because the dataset did not provide any further explanation on what the metrics mean, I am assuming they are defined as such:\r\n",
    "\r\n",
    "- Units: The quantity sold (eg. 1 CD Single, 2 Cassette)\r\n",
    "- Value: The monetary price, in dollars\r\n",
    "- Value (Adjusted): The adjusted monetary price to 2019, in dollars\r\n",
    "\r\n",
    "The negative numbers are outliers because there is no such thing as a negative unit or price. There are only 12 instances of these, so I will replace these values with 0. For the instance of Cassette Single, the negative numbers appear at the tail end, right before the format is dropped off, which suggests that replacing with a 0 is okay."
   ],
   "metadata": {}
  }
 ],
 "metadata": {
  "orig_nbformat": 4,
  "language_info": {
   "name": "python",
   "version": "3.9.0",
   "mimetype": "text/x-python",
   "codemirror_mode": {
    "name": "ipython",
    "version": 3
   },
   "pygments_lexer": "ipython3",
   "nbconvert_exporter": "python",
   "file_extension": ".py"
  },
  "kernelspec": {
   "name": "python3",
   "display_name": "Python 3.9.0 64-bit ('venv')"
  },
  "interpreter": {
   "hash": "60bc5e8ebca3f5b0f6c372a30746235543ecfb2c17a61fce6e3003bd07465aed"
  }
 },
 "nbformat": 4,
 "nbformat_minor": 2
}